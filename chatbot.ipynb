{
 "cells": [
  {
   "cell_type": "code",
   "execution_count": 3,
   "metadata": {},
   "outputs": [],
   "source": [
    "from langchain_groq import ChatGroq\n",
    "\n",
    "llm = ChatGroq(\n",
    "    temperature=0,\n",
    "    groq_api_key = \"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\",\n",
    "    model_name = \"llama-3.1-70b-versatile\"\n",
    "    \n",
    ")"
   ]
  },
  {
   "cell_type": "code",
   "execution_count": 4,
   "metadata": {},
   "outputs": [
    {
     "data": {
      "text/plain": [
       "'The concept of \"life\" is complex and multifaceted, and its meaning can vary depending on the context, perspective, and field of study. Here\\'s a comprehensive overview:\\n\\n**Biological definition:** In biology, life refers to the condition that distinguishes living organisms from non-living matter. Living organisms are characterized by the following essential features:\\n\\n1. **Organization**: Living things are composed of cells, which are the basic structural and functional units of life.\\n2. **Metabolism**: Living organisms carry out a series of chemical reactions that sustain life, such as energy production, growth, and maintenance.\\n3. **Homeostasis**: Living things maintain a stable internal environment despite changes in the external environment.\\n4. **Growth and development**: Living organisms grow, develop, and reproduce.\\n5. **Response to stimuli**: Living things respond to internal and external stimuli, such as light, temperature, and chemicals.\\n6. **Evolution**: Living organisms evolve over time through the process of natural selection.\\n\\n**Philosophical and existential definition:** From a philosophical and existential perspective, life refers to the human experience, including:\\n\\n1. **Consciousness**: The state of being aware of one\\'s surroundings, thoughts, and emotions.\\n2. **Subjective experience**: The unique, personal experience of being alive, including perceptions, feelings, and thoughts.\\n3. **Meaning and purpose**: The search for significance, direction, and fulfillment in life.\\n4. **Relationships and connections**: The bonds and interactions with other living beings, including family, friends, and community.\\n5. **Personal growth and self-actualization**: The pursuit of self-improvement, self-awareness, and realizing one\\'s potential.\\n\\n**Cultural and social definition:** In a cultural and social context, life refers to the shared human experience, including:\\n\\n1. **Community and social bonds**: The relationships and interactions within families, communities, and societies.\\n2. **Cultural heritage and traditions**: The customs, values, and beliefs passed down through generations.\\n3. **Economic and environmental factors**: The impact of economic systems, environmental conditions, and access to resources on human well-being.\\n4. **Personal and collective identity**: The sense of self and group identity, including nationality, ethnicity, and social status.\\n\\nIn summary, the concept of life encompasses various aspects, including biological, philosophical, existential, cultural, and social dimensions. It is a complex, dynamic, and multifaceted phenomenon that continues to be explored and understood by scholars, scientists, and individuals from diverse backgrounds and perspectives.'"
      ]
     },
     "execution_count": 4,
     "metadata": {},
     "output_type": "execute_result"
    }
   ],
   "source": [
    "res = llm.invoke(\"What do you mean by life\")\n",
    "res.content\n"
   ]
  },
  {
   "cell_type": "code",
   "execution_count": 1,
   "metadata": {},
   "outputs": [
    {
     "name": "stdout",
     "output_type": "stream",
     "text": [
      "Your API key is: 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\n"
     ]
    }
   ],
   "source": [
    "from dotenv import load_dotenv\n",
    "import os\n",
    "\n",
    "# Load environment variables from the .env file\n",
    "load_dotenv()\n",
    "\n",
    "# Access the apikey variable\n",
    "api_key = os.getenv(\"api_key\")\n",
    "\n",
    "# Use the API key in your code\n",
    "print(f\"Your API key is: {api_key}\")"
   ]
  },
  {
   "cell_type": "code",
   "execution_count": null,
   "metadata": {},
   "outputs": [],
   "source": []
  }
 ],
 "metadata": {
  "kernelspec": {
   "display_name": "Python 3",
   "language": "python",
   "name": "python3"
  },
  "language_info": {
   "codemirror_mode": {
    "name": "ipython",
    "version": 3
   },
   "file_extension": ".py",
   "mimetype": "text/x-python",
   "name": "python",
   "nbconvert_exporter": "python",
   "pygments_lexer": "ipython3",
   "version": "3.11.8"
  }
 },
 "nbformat": 4,
 "nbformat_minor": 2
}
